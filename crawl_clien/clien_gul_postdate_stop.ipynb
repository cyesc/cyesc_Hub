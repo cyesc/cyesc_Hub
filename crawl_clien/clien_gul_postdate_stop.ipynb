{
 "cells": [
  {
   "cell_type": "code",
   "execution_count": 13,
   "id": "185b1d85",
   "metadata": {},
   "outputs": [],
   "source": [
    "import requests\n",
    "from bs4 import BeautifulSoup\n",
    "import csv\n",
    "from datetime import datetime\n",
    "import re\n",
    "from datetime import timedelta"
   ]
  },
  {
   "cell_type": "code",
   "execution_count": 176,
   "id": "93154da5",
   "metadata": {},
   "outputs": [],
   "source": [
    "data_list = []\n",
    "\n",
    "def no_space(text):\n",
    "    text1 = re.sub('\\xa0|&nbsp; | &nbsp;|&nbsp;|\\n|\\t|\\r| \\n| \\t| \\r|\\n |\\t |\\r ', '', text)\n",
    "    text2 = re.sub('\\n', '', text1)\n",
    "    return text2\n",
    "\n",
    "def br_rm(tags):\n",
    "    br_tags = tags.find_all('br')\n",
    "    for br in br_tags:\n",
    "        br.extract()\n",
    "    return tags\n",
    "\n",
    "for page in range(0,3):\n",
    "    url = 'https://www.clien.net/service/board/cm_car?&od=T31&category=0&po=' + str(page)\n",
    "#     print(url)\n",
    "    response = requests.get(url)\n",
    "    soup = BeautifulSoup(response.content, 'html.parser')\n",
    "    articles = soup.select(\".list_content a.list_subject\")\n",
    "    \n",
    "    for article in articles:\n",
    "        arti_url = article[\"href\"]\n",
    "        article_response = requests.get('https://www.clien.net/' + arti_url)\n",
    "        article_soup = BeautifulSoup(article_response.content, \"html.parser\")\n",
    "        \n",
    "        post_category = article_soup.select_one(\".post_category\").text.strip()   #게시물 카테고리\n",
    "        title = article_soup.select_one(\".post_subject > span:nth-child(2)\").text   #title\n",
    "        contents_bb = article_soup.select_one(\".post_article\")   #contents 전처리 1\n",
    "        contents_b = br_rm(contents_bb)   #contents 전처리 2\n",
    "        contents = no_space(contents_b.text.strip())   #contents\n",
    "        view_cnt = article_soup.select_one('.view_count > strong').text   #조회수\n",
    "        postdate_txt = article_soup.select_one(\".post_author > span:nth-child(1)\").text.strip()   #업로드일 전처리 1\n",
    "        postdate_tx = no_space(postdate_txt)   #업로드일 전처리 2\n",
    "        postdate = postdate_tx[:10]   #업로드일\n",
    "        review_cnt = article_soup.select_one(\".comment_head > a strong\").text   #리뷰수\n",
    "        if postdate == \"2023-07-09\":\n",
    "            break\n",
    "        \n",
    "        data_list.append([post_category,title,contents,view_cnt,review_cnt,postdate])"
   ]
  },
  {
   "cell_type": "code",
   "execution_count": 177,
   "id": "5afe22b1",
   "metadata": {},
   "outputs": [],
   "source": [
    "with open(\"clien_gul_page2_230710_to0710_ver2.csv\", \"w\", encoding = \"utf-8\", newline=\"\") as file:   #csv파일로 변환\n",
    "    writer = csv.writer(file)\n",
    "    writer.writerow([\"post_category\", \"title\", \"contents\", \"view_cnt\", \"review_cnt\", \"postdate\"])\n",
    "    writer.writerows(data_list)"
   ]
  },
  {
   "cell_type": "code",
   "execution_count": null,
   "id": "4de05419",
   "metadata": {},
   "outputs": [],
   "source": []
  }
 ],
 "metadata": {
  "kernelspec": {
   "display_name": "Python 3 (ipykernel)",
   "language": "python",
   "name": "python3"
  },
  "language_info": {
   "codemirror_mode": {
    "name": "ipython",
    "version": 3
   },
   "file_extension": ".py",
   "mimetype": "text/x-python",
   "name": "python",
   "nbconvert_exporter": "python",
   "pygments_lexer": "ipython3",
   "version": "3.10.9"
  }
 },
 "nbformat": 4,
 "nbformat_minor": 5
}

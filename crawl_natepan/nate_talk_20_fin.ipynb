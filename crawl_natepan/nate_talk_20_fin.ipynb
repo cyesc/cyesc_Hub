{
 "cells": [
  {
   "cell_type": "code",
   "execution_count": 29,
   "id": "185b1d85",
   "metadata": {},
   "outputs": [],
   "source": [
    "import requests\n",
    "from bs4 import BeautifulSoup\n",
    "import csv\n",
    "from datetime import datetime\n",
    "import re\n",
    "from datetime import timedelta"
   ]
  },
  {
   "cell_type": "code",
   "execution_count": 30,
   "id": "93154da5",
   "metadata": {},
   "outputs": [],
   "source": [
    "data_list = []\n",
    "\n",
    "def no_space(text):\n",
    "    text1 = re.sub('&nbsp; | &nbsp;|\\n|\\t|\\r| \\n| \\t| \\r|\\n |\\t |\\r ', '', text)\n",
    "    text2 = re.sub('\\n', '', text1)\n",
    "    return text2\n",
    "\n",
    "for page in range(1,3):\n",
    "    url = 'https://pann.nate.com/talk/c20002?page='+ str(page)\n",
    "#     print(url)\n",
    "    response = requests.get(url)\n",
    "    soup = BeautifulSoup(response.content, 'html.parser')\n",
    "    articles = soup.select(\".subject > h2 > a\")\n",
    "    for article in articles:\n",
    "        arti_url = article[\"href\"]\n",
    "        article_response = requests.get('https://pann.nate.com' + arti_url)\n",
    "        article_soup = BeautifulSoup(article_response.content, \"html.parser\")\n",
    "        \n",
    "        title = article_soup.select_one(\".post-tit-info > h1\").text.strip()   #title\n",
    "        contents_b = article_soup.select_one(\"#contentArea\").text   #contents 전처리 전\n",
    "        contents = no_space(contents_b)   #contents 전처리 완\n",
    "        view_cnt = article_soup.select_one('.count').text   #조회수\n",
    "        postdate_txt = article_soup.select_one(\".date\").text   #업로드일 전처리 1\n",
    "        postdate_tx = datetime.strptime(postdate_txt, '%Y.%m.%d %H:%M')   #업로드일 전처리 2\n",
    "        postdate = postdate_tx.strftime('%Y-%m-%d')   #업로드일 전처리 완\n",
    "        review_cnt = article_soup.select_one(\".num > strong\").text   #리뷰수\n",
    "        \n",
    "        data_list.append([title,contents,view_cnt[2:],review_cnt,postdate])"
   ]
  },
  {
   "cell_type": "code",
   "execution_count": 31,
   "id": "5afe22b1",
   "metadata": {},
   "outputs": [],
   "source": [
    "with open(\"nate_talk_20_page2_230705.csv\", \"w\", encoding = \"utf-8\", newline=\"\") as file:   #csv파일로 변환\n",
    "    writer = csv.writer(file)\n",
    "    writer.writerow([\"title\", \"contents\", \"view_cnt\", \"review_cnt\", \"postdate\"])\n",
    "    writer.writerows(data_list)"
   ]
  },
  {
   "cell_type": "code",
   "execution_count": null,
   "id": "4de05419",
   "metadata": {},
   "outputs": [],
   "source": []
  }
 ],
 "metadata": {
  "kernelspec": {
   "display_name": "Python 3 (ipykernel)",
   "language": "python",
   "name": "python3"
  },
  "language_info": {
   "codemirror_mode": {
    "name": "ipython",
    "version": 3
   },
   "file_extension": ".py",
   "mimetype": "text/x-python",
   "name": "python",
   "nbconvert_exporter": "python",
   "pygments_lexer": "ipython3",
   "version": "3.10.9"
  }
 },
 "nbformat": 4,
 "nbformat_minor": 5
}
